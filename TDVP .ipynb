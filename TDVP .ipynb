{
 "cells": [
  {
   "cell_type": "markdown",
   "metadata": {},
   "source": [
    "# Theoretical predictions:"
   ]
  },
  {
   "cell_type": "markdown",
   "metadata": {},
   "source": [
    "**Sprawdzone i działa na:**\n",
    "\n",
    "**For state $|1 \\rangle$ and $H = - Z \\otimes Z$:**\n",
    "    $$\\langle 1 \\otimes X \\rangle = 0 $$\n",
    "    $$\\langle Z \\otimes Z \\rangle = 1$$\n",
    "   \n",
    "**For state $|1 \\rangle$ and $H = 1 \\otimes X$:** \n",
    "    $$\\langle 1 \\otimes X \\rangle = 0$$\n",
    "    $$\\langle Z \\otimes Z \\rangle = \\cos^{2} \\frac{2t}{\\hbar}$$\n",
    "\n",
    "\n",
    "**For state $\\frac{|0\\rangle + |1 \\rangle}{2}$ and $H = 1 \\otimes X$:**\n",
    "    $$\\langle 1 \\otimes X \\rangle = 1 $$\n",
    "    $$\\langle Z \\otimes Z \\rangle = 0 $$\n",
    "\n",
    "**For state $\\frac{|0\\rangle + |1 \\rangle}{2}$ and $H = -Z \\otimes Z$:**\n",
    "    $$\\langle 1 \\otimes X \\rangle = \\cos^{2} \\frac{2t}{\\hbar}$$\n",
    "    $$\\langle Z \\otimes Z \\rangle = 0 $$"
   ]
  },
  {
   "cell_type": "markdown",
   "metadata": {},
   "source": [
    "# TDVP code"
   ]
  },
  {
   "cell_type": "markdown",
   "metadata": {},
   "source": [
    "Libraries:"
   ]
  },
  {
   "cell_type": "code",
   "execution_count": 5,
   "metadata": {},
   "outputs": [],
   "source": [
    "import numpy as np\n",
    "import scipy.sparse.linalg as ssl\n",
    "import scipy.linalg as sc\n",
    "import matplotlib.pyplot as plt\n",
    "\n",
    "np.set_printoptions(threshold=np.inf)"
   ]
  },
  {
   "cell_type": "markdown",
   "metadata": {},
   "source": [
    "Global variables:"
   ]
  },
  {
   "cell_type": "code",
   "execution_count": 6,
   "metadata": {},
   "outputs": [],
   "source": [
    "global J, h, D, d, Dmax\n",
    "J = 1 #Hamiltonian\n",
    "h = 0.1 #Hamiltonian\n",
    "D = 6 #Bond dimension\n",
    "Dmax = 50\n",
    "d = 2 #Physical dimension"
   ]
  },
  {
   "cell_type": "markdown",
   "metadata": {},
   "source": [
    "**Hamiltonian:**"
   ]
  },
  {
   "cell_type": "code",
   "execution_count": 7,
   "metadata": {},
   "outputs": [],
   "source": [
    "sz = [[1, 0], [0,-1]]\n",
    "sx = [[0,1], [1,0]]\n",
    "on = [[1,0], [0,1]]\n",
    "\n",
    "X1 = np.tensordot(sx, on, axes=([],[]))\n",
    "X2 = np.tensordot(on, sx, axes=([],[]))\n",
    "ZZ = np.tensordot(sz, sz, axes=([],[]))\n",
    "H = -J*ZZ - h*0.5*X1 - h*0.5*X2\n",
    "\n",
    "I = np.tensordot(on, on, axes=([],[]))"
   ]
  },
  {
   "cell_type": "markdown",
   "metadata": {},
   "source": [
    "## **MPS:  (Nieważne bo na dole uzyskuje AL, AR, C z A ogólnego)**"
   ]
  },
  {
   "cell_type": "code",
   "execution_count": 8,
   "metadata": {},
   "outputs": [],
   "source": [
    "AC = np.zeros((D, d, D)).astype(complex)\n",
    "AR = np.zeros((D, d, D)).astype(complex)\n",
    "AL = np.zeros((D, d, D)).astype(complex)\n",
    "C = np.identity(D).astype(complex)"
   ]
  },
  {
   "cell_type": "markdown",
   "metadata": {},
   "source": [
    "$\\rightrightarrows$ state:"
   ]
  },
  {
   "cell_type": "code",
   "execution_count": 9,
   "metadata": {},
   "outputs": [],
   "source": [
    "#NIE wazne \n",
    "\n",
    "AC[0,0,0] = 1/np.sqrt(2)\n",
    "AC[0,1,0] = 1/np.sqrt(2)\n",
    "\n",
    "AR[0,0,0] = 1/np.sqrt(2)\n",
    "AR[0,1,0] = 1/np.sqrt(2)\n",
    "\n",
    "AL[0,0,0] = 1/np.sqrt(2)\n",
    "AL[0,1,0] = 1/np.sqrt(2)"
   ]
  },
  {
   "cell_type": "markdown",
   "metadata": {},
   "source": [
    "$\\upuparrows$  state:"
   ]
  },
  {
   "cell_type": "code",
   "execution_count": 10,
   "metadata": {},
   "outputs": [],
   "source": [
    "AC[0,0,0] = 1\n",
    "AR[0,0,0] = 1\n",
    "AL[0,0,0] = 1"
   ]
  },
  {
   "cell_type": "markdown",
   "metadata": {},
   "source": [
    "## A defining \n",
    "### Finding AL, C, AR from A\n",
    "#### Right-Left Canonical is needed to get proper observables regardless of bond dimension D"
   ]
  },
  {
   "cell_type": "code",
   "execution_count": 11,
   "metadata": {},
   "outputs": [],
   "source": [
    "A = np.zeros((D, d, D)).astype(complex)\n",
    "\n",
    "#do testów i symulacji używam tych dwóch stanów:\n",
    "\n",
    "#state 01/sqrt(2):\n",
    "A[0,0,0] = 1/np.sqrt(2)\n",
    "A[0,1,0] = 1/np.sqrt(2)\n",
    "\n",
    "#state 0:\n",
    "#A[0,0,0] = 1"
   ]
  },
  {
   "cell_type": "markdown",
   "metadata": {},
   "source": [
    "<img src=\"Left.png\" width=\"700\">\n",
    "<img src=\"Mix.png\" width=\"700\">"
   ]
  },
  {
   "cell_type": "code",
   "execution_count": 12,
   "metadata": {},
   "outputs": [],
   "source": [
    "#Funkcja z A robiaca AL, AR, C \n",
    "\n",
    "def leftOrthonormalise(A, mu):\n",
    "    L = np.random.rand(D,D)\n",
    "    L = np.divide( L, np.linalg.norm(L) )\n",
    "    Lold = L\n",
    "    al, L = np.linalg.qr( np.reshape( np.tensordot(L, A, axes=([1], [0])), (D*d, D)) )\n",
    "    if np.array_equal(L, -1*Lold):\n",
    "        al = -1*al #fixing positive sign with singular value\n",
    "        L = -1*L\n",
    "    lamb = np.linalg.norm(L)\n",
    "    L = np.divide(L, lamb)\n",
    "    delta = np.linalg.norm( np.subtract(L, Lold) )\n",
    "\n",
    "    while delta > mu:\n",
    "        #Tu jest jakies przyspieszenie z Arnoldim ale go nie rozumie, a nie jeskt kluczowe\n",
    "        _, L = np.linalg.qr(L)\n",
    "        L = np.divide( L, np.linalg.norm(L) )\n",
    "        Lold = L\n",
    "        al, L = np.linalg.qr( np.reshape( np.tensordot(L, A, axes=([1], [0])), (D*d, D)) )\n",
    "        if np.array_equal(L, -1*Lold):\n",
    "            al = -1*al\n",
    "            L = -1*L\n",
    "        lamb = np.linalg.norm(L)\n",
    "        L = np.divide( L, lamb )\n",
    "        delta = np.linalg.norm( np.subtract(L, Lold) )\n",
    "    \n",
    "    al = np.reshape(al, (D,d,D))\n",
    "    return al, L, lamb\n",
    "\n",
    "def rightOrthonormalise(A, mu):\n",
    "    C = np.random.rand(D,D)\n",
    "    C = C/np.linalg.norm(C)\n",
    "    Cold = C  \n",
    "    ar, C = np.linalg.qr( np.transpose( np.reshape( np.tensordot(A, C, axes=([2], [0])), (D, d*D)) ) )\n",
    "    if np.array_equal(C, -1*Cold):\n",
    "        ar = -1*np.transpose(ar) #fixing positive sign\n",
    "        C = -1*np.transpose(C)\n",
    "    lamb = np.linalg.norm(C)\n",
    "    C = np.divide(C, lamb)\n",
    "    delta = np.linalg.norm( np.subtract(C, Cold) )\n",
    "    \n",
    "    while delta > mu:\n",
    "        _, C = np.linalg.qr(np.transpose(C))\n",
    "        C = np.transpose(C)\n",
    "        C = np.divide( C, np.linalg.norm(C) )\n",
    "        Cold = C\n",
    "        ar, C = np.linalg.qr( np.transpose( np.reshape( np.tensordot(A, C, axes=([2], [0])), (D, d*D)) ) )\n",
    "        if np.array_equal(C, -1*Cold):\n",
    "            ar = -1*np.transpose(ar) #fixing positive sign\n",
    "            C = -1*np.transpose(C)\n",
    "        lamb = np.linalg.norm(C)\n",
    "        C = np.divide( C, lamb )\n",
    "\n",
    "        delta = np.linalg.norm( np.subtract(C, Cold) )\n",
    "    \n",
    "    ar = np.reshape(ar, (D,d,D))\n",
    "    return ar, C, lamb\n",
    "\n",
    "def mixedCanonical(A, mu = 10e-10):\n",
    "    AL, _,lamb = leftOrthonormalise(A, mu) \n",
    "    AR, C, _ = rightOrthonormalise(AL, mu)\n",
    "    U, C, V = np.linalg.svd(C)   #moze wziac dagger z V?\n",
    "    \n",
    "    AL = np.reshape(np.dot(np.reshape(AL,(d*D,D)),U), (D,d*D))\n",
    "    AL = np.reshape(np.array(np.dot(np.matrix(U).getH(), AL)), (D,d,D))\n",
    "    \n",
    "    AR = np.reshape(np.dot(np.reshape(AR,(d*D,D)),V), (D,d*D))\n",
    "    AR = np.reshape(np.array(np.dot(np.matrix(V).getH(), AR)), (D,d,D))\n",
    "\n",
    "    return AL, AR, np.diag(C), lamb"
   ]
  },
  {
   "cell_type": "code",
   "execution_count": 13,
   "metadata": {},
   "outputs": [],
   "source": [
    "AL, AR, C, _ = mixedCanonical(A)"
   ]
  },
  {
   "cell_type": "markdown",
   "metadata": {},
   "source": [
    "*Calculating observables - contracting and Hamiltonian normalization*"
   ]
  },
  {
   "cell_type": "code",
   "execution_count": 14,
   "metadata": {},
   "outputs": [],
   "source": [
    "def contractHamiltonian(al, c, ar, HH):\n",
    "    AA = np.tensordot(al, c, axes=([2], [0]))\n",
    "    AA = np.tensordot(AA, ar, axes=([2], [0]))\n",
    "    O = np.tensordot(AA, HH, axes=([1,2], [0,2]))\n",
    "    O = np.tensordot(np.conjugate(AA), O, axes=([0,3,1,2], [0,1,2,3]))\n",
    "    cc = np.asscalar(np.tensordot(c, np.conjugate(c), axes=([0,1], [0,1])))\n",
    "    return np.asscalar(O)/cc\n",
    "\n",
    "def normalizeHamiltonian(al, c, ar, HH):\n",
    "    EH = contractHamiltonian(al, c, ar, HH)\n",
    "    HH = HH - EH*I\n",
    "    return HH"
   ]
  },
  {
   "cell_type": "markdown",
   "metadata": {},
   "source": [
    "### Finding G1 and G2:"
   ]
  },
  {
   "cell_type": "markdown",
   "metadata": {},
   "source": [
    "![title](LH.png)"
   ]
  },
  {
   "cell_type": "markdown",
   "metadata": {},
   "source": [
    "![title](G1.png)"
   ]
  },
  {
   "cell_type": "code",
   "execution_count": 15,
   "metadata": {},
   "outputs": [],
   "source": [
    "def buildLH(al, HH):\n",
    "    EL = np.tensordot(al, np.conjugate(al), axes=([1],[1]))\n",
    "    III = np.tensordot(np.identity(D),np.identity(D), axes=([],[]))\n",
    "    EL = III - EL\n",
    "    EL = np.reshape(np.swapaxes(EL, 1,2), (D*D, D*D))\n",
    "    EL = np.reshape(sc.pinv(EL, rcond=1e-14), (D,D,D,D))\n",
    "    \n",
    "    AA = np.tensordot(al, al, axes=([2], [0]))\n",
    "    O = np.tensordot(AA, HH, axes=([1,2], [0,2]))\n",
    "    O = np.tensordot(O, np.conjugate(AA), axes=([0,2,3], [0,1,2]))\n",
    "    \n",
    "    LH = np.tensordot(O, EL, axes=([0,1],[0,1]))\n",
    "    \n",
    "    return LH\n",
    "\n",
    "def buildRH(ar, HH):\n",
    "    ER = np.tensordot(ar, np.conjugate(ar), axes=([1],[1]))\n",
    "    III = np.tensordot(np.identity(D),np.identity(D), axes=([],[]))\n",
    "    ER = III - ER\n",
    "    ER = np.reshape(np.swapaxes(ER, 1,2), (D*D, D*D))\n",
    "    ER = np.reshape(sc.pinv(ER, rcond=1e-14), (D,D,D,D))\n",
    "    \n",
    "    AA = np.tensordot(ar, ar, axes=([2], [0]))\n",
    "    O = np.tensordot(AA, HH, axes=([1,2], [0,2]))\n",
    "    O = np.tensordot(O, np.conjugate(AA), axes=([1,2,3], [3,1,2]))\n",
    "    \n",
    "    RH = np.tensordot(O, ER, axes=([0,1],[2,3]))\n",
    "    \n",
    "    return RH\n",
    "\n",
    "def buildG(al, ar, HH):\n",
    "    LH = buildLH(al, HH)\n",
    "    RH = buildRH(ar, HH)\n",
    "    \n",
    "    IID = np.identity(D)\n",
    "    IId = np.identity(d)\n",
    "    \n",
    "    #MAKE G1:\n",
    "    \n",
    "    LHII = np.tensordot(LH, IId, axes=([],[]))\n",
    "    LHII = np.tensordot(LHII, IID, axes=([],[]))\n",
    "    LHII = np.swapaxes(np.swapaxes( np.swapaxes(LHII, 1,2), 2,4), 4,3)\n",
    "    \n",
    "    IIRH = np.tensordot(IID, IId, axes=([],[]))\n",
    "    IIRH = np.tensordot(IIRH, RH, axes=([],[]))\n",
    "    IIRH = np.swapaxes(np.swapaxes( np.swapaxes(IIRH, 1,2), 2,4), 4,3)\n",
    "    \n",
    "    a = np.tensordot(al,HH, axes=([1],[0]))\n",
    "    a = np.tensordot(a, np.conjugate(al), axes=([0,2],[0,1]))\n",
    "    a = np.swapaxes(a, 2,3)\n",
    "    ALHI = np.tensordot(a, IID, axes=([],[]))\n",
    "    ALHI = np.swapaxes(np.swapaxes(ALHI, 2,4), 3,4)\n",
    "    \n",
    "    b = np.tensordot(ar,HH, axes=([1],[2]))\n",
    "    b = np.tensordot(b, np.conjugate(ar), axes=([1,4],[2,1]))\n",
    "    b = np.swapaxes(b, 0,1)\n",
    "    IHAR = np.tensordot( IID, b, axes=([],[]))\n",
    "    IHAR = np.swapaxes(np.swapaxes(IHAR, 1,2), 2,3)\n",
    "    \n",
    "    G1 = LHII + IIRH + ALHI + IHAR\n",
    "    \n",
    "    #MAKE G2:\n",
    "    \n",
    "    LHII2 = np.tensordot(LH, al, axes=([0],[0]))\n",
    "    LHII2 = np.tensordot(LHII2, np.conjugate(al), axes=([0,1],[0,1]) )\n",
    "    LHII2 = np.tensordot(LHII2, IID, axes=([],[]) )\n",
    "    LHII2 = np.swapaxes(LHII2, 1,2)\n",
    "    \n",
    "    IIRH2 = np.tensordot(al, np.conjugate(al), axes=([0,1],[0,1]))\n",
    "    IIRH2 = np.tensordot(IIRH2, RH, axes=([],[]))\n",
    "    IIRH2 = np.swapaxes(IIRH2, 1,2)\n",
    "    \n",
    "    a = np.tensordot(al, al, axes=([2], [0]))                     \n",
    "    aa = np.tensordot(a, HH, axes=([1,2], [0,2]))                  \n",
    "    ALHI2 = np.tensordot(aa, np.conjugate(a), axes=([0,2,3], [0,1,2]))\n",
    "    ALHI2 = np.tensordot(ALHI2, IID, axes=([],[]))\n",
    "    ALHI2 = np.swapaxes(ALHI2, 1,2)\n",
    "                         \n",
    "    b = np.tensordot(al,HH, axes=([1],[0]))\n",
    "    b = np.tensordot(b,ar, axes=([3],[1]))\n",
    "    b = np.tensordot(b, np.conjugate(al), axes=([0,2],[0,1]))\n",
    "    IHAR2 = np.tensordot(b, np.conjugate(ar), axes=([1,3],[1,2]))                     \n",
    "    \n",
    "    G2 = LHII2 + IIRH2 + ALHI2 + IHAR2\n",
    "    \n",
    "    return G1, G2"
   ]
  },
  {
   "cell_type": "markdown",
   "metadata": {},
   "source": [
    "### Finding AL, AR:"
   ]
  },
  {
   "cell_type": "markdown",
   "metadata": {},
   "source": [
    "<img src=\"alar.png\" width=\"600\">"
   ]
  },
  {
   "cell_type": "code",
   "execution_count": 16,
   "metadata": {},
   "outputs": [],
   "source": [
    "def findALAR(AC, C):\n",
    "    ULA, PLA = sc.polar( np.reshape(AC,(d*D, D)), side='left')\n",
    "    ULC, PLC = sc.polar(C, side='left')\n",
    "    \n",
    "    al = np.array( np.dot(ULA, np.matrix(ULC).getH()) ) \n",
    "    \n",
    "    URA, PRA = sc.polar( np.reshape(AC, (D,d*D)), side='right')\n",
    "    URC, PRC = sc.polar(C, side='right')\n",
    "    \n",
    "    ar = np.array( np.dot(np.matrix(URC).getH(), URA) )\n",
    "    \n",
    "    al = np.reshape(al, (D,d,D))\n",
    "    ar = np.reshape(ar, (D,d,D))\n",
    "    return al, ar"
   ]
  },
  {
   "cell_type": "markdown",
   "metadata": {},
   "source": [
    "### Increasing D while executing:"
   ]
  },
  {
   "cell_type": "code",
   "execution_count": 24,
   "metadata": {},
   "outputs": [],
   "source": [
    "def increaseD(al, c, ar, HH, dt):\n",
    "    global D\n",
    "    ds = 1e-8\n",
    "    \n",
    "    #Build projection operator\n",
    "    III = np.swapaxes(np.tensordot(np.identity(D),np.identity(d), axes=([],[])), 1,2)\n",
    "    TL = np.tensordot(al, np.conjugate(al), axes=([2],[2]))\n",
    "    TR = np.swapaxes( np.swapaxes( np.tensordot(np.conjugate(ar), ar, axes=([0],[0])), 0,1 ), 2,3)\n",
    "    PL = III - TL\n",
    "    PR = III - TR\n",
    "\n",
    "    #Evolve Hamiltonian\n",
    "    HH = np.reshape( np.swapaxes(HH, 1,2), (d*d, d*d))\n",
    "    EH = sc.expm(-1j*dt*HH)\n",
    "    EH = np.reshape(EH, (d,d,d,d))\n",
    "    \n",
    "    #Contract and make SVD\n",
    "    a = np.tensordot(al, c, axes=([2],[0]))\n",
    "    a = np.tensordot(a, ar, axes=([2],[0]))\n",
    "    a = np.tensordot(a, EH, axes=([1,2],[0,1]))\n",
    "    a = np.tensordot(PL, a, axes=([2,3],[0,2]))\n",
    "    a = np.tensordot(a, PR, axes=([2,3],[0,1]))\n",
    "    a = np.reshape(a, (D*d, D*d))\n",
    "    \n",
    "    U, S, V = np.linalg.svd(a) \n",
    "    \n",
    "    \n",
    "    i = 0\n",
    "    AL0 = []\n",
    "    AL1 = []\n",
    "    AR0 = []\n",
    "    AR1 = []\n",
    "    while(S[i] > ds and Dmax > D + i):\n",
    "        u = np.reshape(U[:,i], (D,d))\n",
    "        v = np.reshape(V[:,i], (D,d))\n",
    "        \n",
    "        #Czy to dobrze sklada...\n",
    "        AL0.extend(u[:,0])\n",
    "        AL1.extend(u[:,1])\n",
    "        AR0.extend(v[:,0])\n",
    "        AR1.extend(v[:,1])\n",
    "        \n",
    "        i = i + 1\n",
    "    \n",
    "    #Create bigger matrixes with vectors\n",
    "    if i > 0:\n",
    "        print(\"Dodane i: \",i)\n",
    "        bigAR = np.zeros((D+i, d, D+i)).astype(complex)\n",
    "        bigAR[0:D, :, 0:D] = ar\n",
    "        bigAL = np.zeros((D+i, d, D+i)).astype(complex)\n",
    "        bigAL[0:D, :, 0:D] = al\n",
    "        \n",
    "        #Czy to dziala dobrze..\n",
    "        bigAL[0:D, 0, D:D+i] = np.reshape(AL0, (D, i))\n",
    "        bigAL[0:D, 1, D:D+i] = np.reshape(AL1, (D, i))\n",
    "        \n",
    "        bigAR[D:D+i, 0, 0:D] = np.conjugate( np.transpose( np.reshape(AR0, (D, i)) ))\n",
    "        bigAR[D:D+i, 1, 0:D] = np.conjugate( np.transpose( np.reshape(AR1, (D, i)) ))\n",
    "        \n",
    "        bigC = np.zeros((D+i, D+i)).astype(complex)\n",
    "        bigC[0:D, 0:D] = c\n",
    "        c = bigC\n",
    "        \n",
    "        D = D + i\n",
    "        al = bigAL\n",
    "        ar = bigAR\n",
    "    \n",
    "    return al, c, ar"
   ]
  },
  {
   "cell_type": "markdown",
   "metadata": {},
   "source": [
    "## TDVP algorithm:"
   ]
  },
  {
   "cell_type": "markdown",
   "metadata": {},
   "source": [
    "<img src=\"algo.png\" width=\"700\">"
   ]
  },
  {
   "cell_type": "code",
   "execution_count": 18,
   "metadata": {},
   "outputs": [],
   "source": [
    "outcomesX = []\n",
    "outcomesZ = []\n",
    "outcomesH = []\n",
    "timing = []"
   ]
  },
  {
   "cell_type": "code",
   "execution_count": 19,
   "metadata": {},
   "outputs": [],
   "source": [
    "def tdvp(al, c, ar, HH):\n",
    "    dt = 0.01\n",
    "    time = 100\n",
    "    #Normowac Hamiltonian do sredniej zera z każdą petlą?\n",
    "    \n",
    "    outcomesX.clear()\n",
    "    outcomesZ.clear()\n",
    "    outcomesH.clear()\n",
    "    timing.clear()\n",
    "    \n",
    "    #HH = normalizeHamiltonian(al, c, ar, HH)\n",
    "    for i in range(time):\n",
    "        #print(i)\n",
    "        G1, G2 = buildG(al, ar, HH)\n",
    "        G1 = np.reshape(G1, (D*d*D, D*d*D))\n",
    "        G2 = np.reshape(G2, (D*D, D*D))\n",
    "        \n",
    "        AC = np.reshape( np.tensordot(al, c, axes=([2],[0]) ), (D*d*D,1) )\n",
    "        c = np.reshape(c, (D*D, 1))\n",
    "        \n",
    "        #Pade approximation so D^3\n",
    "        AC = np.dot( sc.expm(-1j*dt*G1), AC)\n",
    "        c = np.dot( sc.expm(-1j*dt*G2), c)\n",
    "\n",
    "        AC = np.reshape(AC, (D,d,D))\n",
    "        c = np.reshape(c, (D,D))\n",
    "        \n",
    "        al, ar = findALAR(AC,c)\n",
    "        \n",
    "        outcomesX.append( contractHamiltonian(al, c, ar, X1)) \n",
    "        outcomesZ.append( contractHamiltonian(al, c, ar, ZZ))\n",
    "        outcomesH.append( contractHamiltonian(al, c, ar, H) )\n",
    "        timing.append(i*dt)\n",
    "        \n",
    "        #Powiększenie D wymiaru  #Na razie opcjonalne\n",
    "        #if D < Dmax:\n",
    "         #   al, c, ar = increaseD(al, c, ar, HH, dt)\n",
    "        #print(\"Actualne D: \", D)\n",
    "        \n",
    "    return al, c, ar, outcomesX, outcomesZ, outcomesH, timing"
   ]
  },
  {
   "cell_type": "markdown",
   "metadata": {},
   "source": [
    "# **Main:**"
   ]
  },
  {
   "cell_type": "code",
   "execution_count": 20,
   "metadata": {},
   "outputs": [],
   "source": [
    "AL, C, AR, _, _, _ , _= tdvp(AL, C, AR, H)"
   ]
  },
  {
   "cell_type": "markdown",
   "metadata": {},
   "source": [
    "**OBSERWABLA 1X w czasie:**"
   ]
  },
  {
   "cell_type": "code",
   "execution_count": 21,
   "metadata": {},
   "outputs": [
    {
     "name": "stderr",
     "output_type": "stream",
     "text": [
      "/home/justyna/anaconda3/envs/datascience/lib/python3.6/site-packages/numpy/core/numeric.py:501: ComplexWarning: Casting complex values to real discards the imaginary part\n",
      "  return array(a, dtype, copy=False, order=order)\n"
     ]
    },
    {
     "data": {
      "image/png": "[encoded data removed]",
      "text/plain": [
       "<Figure size 432x288 with 1 Axes>"
      ]
     },
     "metadata": {
      "needs_background": "light"
     },
     "output_type": "display_data"
    }
   ],
   "source": [
    "plt.plot(timing, outcomesX)\n",
    "plt.xlabel('time')\n",
    "plt.ylabel('<x>')\n",
    "plt.show()"
   ]
  },
  {
   "cell_type": "markdown",
   "metadata": {},
   "source": [
    "**OBSERWABLA ZZ w czasie:**"
   ]
  },
  {
   "cell_type": "code",
   "execution_count": 22,
   "metadata": {},
   "outputs": [
    {
     "data": {
      "image/png": "[encoded data removed]",
      "text/plain": [
       "<Figure size 432x288 with 1 Axes>"
      ]
     },
     "metadata": {
      "needs_background": "light"
     },
     "output_type": "display_data"
    }
   ],
   "source": [
    "plt.plot(timing, outcomesZ)\n",
    "plt.xlabel('time')\n",
    "plt.ylabel('<Z>')\n",
    "plt.show()"
   ]
  },
  {
   "cell_type": "markdown",
   "metadata": {},
   "source": [
    "**OBSERWABLA H w czasie:**"
   ]
  },
  {
   "cell_type": "code",
   "execution_count": 23,
   "metadata": {},
   "outputs": [
    {
     "data": {
      "image/png": "[encoded data removed]",
      "text/plain": [
       "<Figure size 432x288 with 1 Axes>"
      ]
     },
     "metadata": {
      "needs_background": "light"
     },
     "output_type": "display_data"
    }
   ],
   "source": [
    "plt.plot(timing, outcomesH)\n",
    "plt.xlabel('time')\n",
    "plt.ylabel('<H>')\n",
    "plt.show()"
   ]
  },
  {
   "cell_type": "markdown",
   "metadata": {},
   "source": [
    "## Code to get results for different D:"
   ]
  },
  {
   "cell_type": "code",
   "execution_count": 222,
   "metadata": {},
   "outputs": [],
   "source": [
    "def getPlots(HH):\n",
    "    global D\n",
    "    listX = []\n",
    "    listZ = []\n",
    "    listH = []\n",
    "    \n",
    "    for DD in range(2,14,2):\n",
    "        D = DD\n",
    "        print(D)\n",
    "\n",
    "        A = np.zeros((D, d, D)).astype(complex)\n",
    "        A[0,0,0] = 1/np.sqrt(2)\n",
    "        A[0,1,0] = 1/np.sqrt(2)\n",
    "        \n",
    "        al, ar, c, _ = mixedCanonical(A)\n",
    "    \n",
    "        _, _, _, ox, oz, oh, t = tdvp(al, c, ar, HH)\n",
    "        \n",
    "        listX.append(ox[:])\n",
    "        listZ.append(oz[:])\n",
    "        listH.append(oh[:])\n",
    "        \n",
    "    return listX, listZ, listH, t   "
   ]
  },
  {
   "cell_type": "code",
   "execution_count": 91,
   "metadata": {},
   "outputs": [
    {
     "name": "stdout",
     "output_type": "stream",
     "text": [
      "2\n",
      "4\n",
      "6\n",
      "8\n",
      "10\n",
      "12\n"
     ]
    }
   ],
   "source": [
    "LX, LZ, LH, T = getPlots(H)"
   ]
  },
  {
   "cell_type": "markdown",
   "metadata": {},
   "source": [
    "**X Observable for many**"
   ]
  },
  {
   "cell_type": "code",
   "execution_count": 92,
   "metadata": {},
   "outputs": [
    {
     "data": {
      "image/png": "[encoded data removed]",
      "text/plain": [
       "<Figure size 432x288 with 1 Axes>"
      ]
     },
     "metadata": {
      "needs_background": "light"
     },
     "output_type": "display_data"
    }
   ],
   "source": [
    "plt.plot(T, LX[0], label='D = 2')\n",
    "plt.plot(T, LX[1], label='D = 4')\n",
    "plt.plot(T, LX[2], label='D = 6')\n",
    "plt.plot(T, LX[3], label='D = 8')\n",
    "plt.plot(T, LX[4], label='D = 10')\n",
    "plt.plot(T, LX[5], label='D = 12')\n",
    "#plt.plot(T, LX[6], label='D = 14')\n",
    "plt.legend()\n",
    "plt.xlabel('time')\n",
    "plt.ylabel('<X>')\n",
    "plt.show()"
   ]
  },
  {
   "cell_type": "markdown",
   "metadata": {},
   "source": [
    "**ZZ Observable for many**"
   ]
  },
  {
   "cell_type": "code",
   "execution_count": 93,
   "metadata": {},
   "outputs": [
    {
     "data": {
      "image/png": "[encoded data removed]",
      "text/plain": [
       "<Figure size 432x288 with 1 Axes>"
      ]
     },
     "metadata": {
      "needs_background": "light"
     },
     "output_type": "display_data"
    }
   ],
   "source": [
    "plt.plot(T, LZ[0], label='D = 2')\n",
    "plt.plot(T, LZ[1], label='D = 4')\n",
    "plt.plot(T, LZ[2], label='D = 6')\n",
    "plt.plot(T, LZ[3], label='D = 8')\n",
    "plt.plot(T, LZ[4], label='D = 10')\n",
    "plt.plot(T, LZ[5], label='D = 12')\n",
    "#plt.plot(T, LZ[6], label='D = 14')\n",
    "plt.legend()\n",
    "plt.xlabel('time')\n",
    "plt.ylabel('<ZZ>')\n",
    "plt.show()"
   ]
  },
  {
   "cell_type": "markdown",
   "metadata": {},
   "source": [
    "**H Observable for many**"
   ]
  },
  {
   "cell_type": "code",
   "execution_count": 94,
   "metadata": {},
   "outputs": [
    {
     "data": {
      "image/png": "[encoded data removed]",
      "text/plain": [
       "<Figure size 432x288 with 1 Axes>"
      ]
     },
     "metadata": {
      "needs_background": "light"
     },
     "output_type": "display_data"
    }
   ],
   "source": [
    "plt.plot(T, LH[0], label='D = 2')\n",
    "plt.plot(T, LH[1], label='D = 4')\n",
    "plt.plot(T, LH[2], label='D = 6')\n",
    "plt.plot(T, LH[3], label='D = 8')\n",
    "plt.plot(T, LH[4], label='D = 10')\n",
    "plt.plot(T, LH[5], label='D = 12')\n",
    "#plt.plot(T, LH[6], label='D = 14')\n",
    "plt.legend()\n",
    "plt.xlabel('time')\n",
    "plt.ylabel('<H>')\n",
    "plt.show()"
   ]
  },
  {
   "cell_type": "code",
   "execution_count": null,
   "metadata": {},
   "outputs": [],
   "source": []
  }
 ],
 "metadata": {
  "kernelspec": {
   "display_name": "Python 3",
   "language": "python",
   "name": "python3"
  },
  "language_info": {
   "codemirror_mode": {
    "name": "ipython",
    "version": 3
   },
   "file_extension": ".py",
   "mimetype": "text/x-python",
   "name": "python",
   "nbconvert_exporter": "python",
   "pygments_lexer": "ipython3",
   "version": "3.6.8"
  }
 },
 "nbformat": 4,
 "nbformat_minor": 2
}
